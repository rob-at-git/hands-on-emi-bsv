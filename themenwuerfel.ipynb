{
 "cells": [
  {
   "cell_type": "code",
   "execution_count": 3,
   "id": "2bd5ba90",
   "metadata": {},
   "outputs": [],
   "source": [
    "import numpy as np"
   ]
  },
  {
   "cell_type": "code",
   "execution_count": 4,
   "id": "a2b88ba0",
   "metadata": {},
   "outputs": [
    {
     "data": {
      "text/plain": [
       "array([66, 48, 20])"
      ]
     },
     "execution_count": 4,
     "metadata": {},
     "output_type": "execute_result"
    }
   ],
   "source": [
    "np.random.randint(0,101,3)"
   ]
  },
  {
   "cell_type": "code",
   "execution_count": 5,
   "id": "68ae130a",
   "metadata": {},
   "outputs": [],
   "source": [
    "def wuerfel(anzahl_gruppen):\n",
    "    ready = False\n",
    "    while not ready:\n",
    "        trial = np.random.randint(0,101,anzahl_gruppen)\n",
    "        print(trial)\n",
    "        if len(set(trial)) == len(trial):\n",
    "            ready = True\n",
    "    print(\"Finales Ergebnis:\", trial)"
   ]
  },
  {
   "cell_type": "code",
   "execution_count": 6,
   "id": "6a66566d",
   "metadata": {},
   "outputs": [
    {
     "name": "stdout",
     "output_type": "stream",
     "text": [
      "[25 40]\n",
      "Finales Ergebnis: [25 40]\n"
     ]
    }
   ],
   "source": [
    "wuerfel(2)"
   ]
  },
  {
   "cell_type": "code",
   "execution_count": 7,
   "id": "f41a3efc",
   "metadata": {},
   "outputs": [
    {
     "name": "stdout",
     "output_type": "stream",
     "text": [
      "[14 10 11  8  4  5  1]\n"
     ]
    }
   ],
   "source": [
    "arr=np.array([5,10,11,1,8,4,14])\n",
    "np.random.shuffle(arr)\n",
    "print(arr)"
   ]
  },
  {
   "cell_type": "code",
   "execution_count": 8,
   "id": "9ed00861",
   "metadata": {},
   "outputs": [
    {
     "name": "stdout",
     "output_type": "stream",
     "text": [
      "[ 8  9 10 11 12 13 14]\n",
      "[14 10 11  8  4  5  1]\n"
     ]
    }
   ],
   "source": [
    "print(np.arange(7)+1+(13-6))\n",
    "print(arr)"
   ]
  },
  {
   "cell_type": "code",
   "execution_count": 9,
   "id": "dcaf949f",
   "metadata": {},
   "outputs": [],
   "source": [
    "def reihenfolge_erfuellt_kriterien(reihenfolge):\n",
    "    tests = []\n",
    "    for index, fragen_index in enumerate(reihenfolge):\n",
    "        test = True\n",
    "        gruppe = index + 1\n",
    "        print(gruppe, fragen_index)\n",
    "        test = test and not (gruppe == fragen_index) # Gruppe soll sich nicht selbst fragen (index beginnt bei 0, darum + 1)\n",
    "        if ( gruppe % 2 == 0): # Falls Gruppe 2,4,6,8, ...\n",
    "            test = test and not (fragen_index == gruppe - 1) # Gruppe 2,4,6,8 soll nicht Gruppe 1,3,5 fragen\n",
    "        else: # (index % 2 !=0 ) Falls Gruppe 1,3,5,7, .. \n",
    "            test = test and not (fragen_index == gruppe + 1) # Gruppe 1,3,5,7 soll nicht Gruppe 2,4,6 fragen\n",
    "        tests.append(test)\n",
    "    print(tests)\n",
    "    return all(tests)\n",
    "        \n",
    "def bestimme_frage_gruppe(anzahl_gruppen):\n",
    "    fertig = False\n",
    "    while not fertig:\n",
    "        gruppen = np.arange(0,anzahl_gruppen) +1\n",
    "        print(\"originale Reihenfolge:\", gruppen)\n",
    "        # mixe Reihenfolge\n",
    "        np.random.shuffle(gruppen)\n",
    "        print(\"neue Reihenfolge:\", gruppen)\n",
    "        fertig = reihenfolge_erfuellt_kriterien(gruppen)\n",
    "    print(\"finale Reihenfolge: Gruppe\")\n",
    "    print(np.arange(0,anzahl_gruppen) + 1, \" fragt Gruppe\")\n",
    "    print(gruppen)\n",
    "    return gruppen"
   ]
  },
  {
   "cell_type": "code",
   "execution_count": 10,
   "id": "8721b40c",
   "metadata": {},
   "outputs": [
    {
     "name": "stdout",
     "output_type": "stream",
     "text": [
      "originale Reihenfolge: [ 1  2  3  4  5  6  7  8  9 10 11 12 13 14]\n",
      "neue Reihenfolge: [ 1  9  3  8 10 12 13  5 14  6  7  4 11  2]\n",
      "1 1\n",
      "2 9\n",
      "3 3\n",
      "4 8\n",
      "5 10\n",
      "6 12\n",
      "7 13\n",
      "8 5\n",
      "9 14\n",
      "10 6\n",
      "11 7\n",
      "12 4\n",
      "13 11\n",
      "14 2\n",
      "[False, True, False, True, True, True, True, True, True, True, True, True, True, True]\n",
      "originale Reihenfolge: [ 1  2  3  4  5  6  7  8  9 10 11 12 13 14]\n",
      "neue Reihenfolge: [ 1 11 12  2  8  3 10  6  4  7  9 14 13  5]\n",
      "1 1\n",
      "2 11\n",
      "3 12\n",
      "4 2\n",
      "5 8\n",
      "6 3\n",
      "7 10\n",
      "8 6\n",
      "9 4\n",
      "10 7\n",
      "11 9\n",
      "12 14\n",
      "13 13\n",
      "14 5\n",
      "[False, True, True, True, True, True, True, True, True, True, True, True, False, True]\n",
      "originale Reihenfolge: [ 1  2  3  4  5  6  7  8  9 10 11 12 13 14]\n",
      "neue Reihenfolge: [13  7  9  4 11  3  6 10 14  2  8  1 12  5]\n",
      "1 13\n",
      "2 7\n",
      "3 9\n",
      "4 4\n",
      "5 11\n",
      "6 3\n",
      "7 6\n",
      "8 10\n",
      "9 14\n",
      "10 2\n",
      "11 8\n",
      "12 1\n",
      "13 12\n",
      "14 5\n",
      "[True, True, True, False, True, True, True, True, True, True, True, True, True, True]\n",
      "originale Reihenfolge: [ 1  2  3  4  5  6  7  8  9 10 11 12 13 14]\n",
      "neue Reihenfolge: [ 4 13 10  2  9 14  1 12  3  5 11  8  6  7]\n",
      "1 4\n",
      "2 13\n",
      "3 10\n",
      "4 2\n",
      "5 9\n",
      "6 14\n",
      "7 1\n",
      "8 12\n",
      "9 3\n",
      "10 5\n",
      "11 11\n",
      "12 8\n",
      "13 6\n",
      "14 7\n",
      "[True, True, True, True, True, True, True, True, True, True, False, True, True, True]\n",
      "originale Reihenfolge: [ 1  2  3  4  5  6  7  8  9 10 11 12 13 14]\n",
      "neue Reihenfolge: [ 8  1 10  9 14 12 11  2  7  4  5 13  6  3]\n",
      "1 8\n",
      "2 1\n",
      "3 10\n",
      "4 9\n",
      "5 14\n",
      "6 12\n",
      "7 11\n",
      "8 2\n",
      "9 7\n",
      "10 4\n",
      "11 5\n",
      "12 13\n",
      "13 6\n",
      "14 3\n",
      "[True, False, True, True, True, True, True, True, True, True, True, True, True, True]\n",
      "originale Reihenfolge: [ 1  2  3  4  5  6  7  8  9 10 11 12 13 14]\n",
      "neue Reihenfolge: [ 9  5 10  6  8  7  4 12  2 11  3 13 14  1]\n",
      "1 9\n",
      "2 5\n",
      "3 10\n",
      "4 6\n",
      "5 8\n",
      "6 7\n",
      "7 4\n",
      "8 12\n",
      "9 2\n",
      "10 11\n",
      "11 3\n",
      "12 13\n",
      "13 14\n",
      "14 1\n",
      "[True, True, True, True, True, True, True, True, True, True, True, True, False, True]\n",
      "originale Reihenfolge: [ 1  2  3  4  5  6  7  8  9 10 11 12 13 14]\n",
      "neue Reihenfolge: [12  3  9 11 13  4  1 10  6  2  7  8 14  5]\n",
      "1 12\n",
      "2 3\n",
      "3 9\n",
      "4 11\n",
      "5 13\n",
      "6 4\n",
      "7 1\n",
      "8 10\n",
      "9 6\n",
      "10 2\n",
      "11 7\n",
      "12 8\n",
      "13 14\n",
      "14 5\n",
      "[True, True, True, True, True, True, True, True, True, True, True, True, False, True]\n",
      "originale Reihenfolge: [ 1  2  3  4  5  6  7  8  9 10 11 12 13 14]\n",
      "neue Reihenfolge: [ 5 14  9 13 12  1  8  2  4  6 10  7  3 11]\n",
      "1 5\n",
      "2 14\n",
      "3 9\n",
      "4 13\n",
      "5 12\n",
      "6 1\n",
      "7 8\n",
      "8 2\n",
      "9 4\n",
      "10 6\n",
      "11 10\n",
      "12 7\n",
      "13 3\n",
      "14 11\n",
      "[True, True, True, True, True, True, False, True, True, True, True, True, True, True]\n",
      "originale Reihenfolge: [ 1  2  3  4  5  6  7  8  9 10 11 12 13 14]\n",
      "neue Reihenfolge: [ 5 11  4  7  9  3 14  6 12  1 10  2  8 13]\n",
      "1 5\n",
      "2 11\n",
      "3 4\n",
      "4 7\n",
      "5 9\n",
      "6 3\n",
      "7 14\n",
      "8 6\n",
      "9 12\n",
      "10 1\n",
      "11 10\n",
      "12 2\n",
      "13 8\n",
      "14 13\n",
      "[True, True, False, True, True, True, True, True, True, True, True, True, True, False]\n",
      "originale Reihenfolge: [ 1  2  3  4  5  6  7  8  9 10 11 12 13 14]\n",
      "neue Reihenfolge: [ 6  7 10 12  4  9  1 14 11 13  8  2  5  3]\n",
      "1 6\n",
      "2 7\n",
      "3 10\n",
      "4 12\n",
      "5 4\n",
      "6 9\n",
      "7 1\n",
      "8 14\n",
      "9 11\n",
      "10 13\n",
      "11 8\n",
      "12 2\n",
      "13 5\n",
      "14 3\n",
      "[True, True, True, True, True, True, True, True, True, True, True, True, True, True]\n",
      "finale Reihenfolge: Gruppe\n",
      "[ 1  2  3  4  5  6  7  8  9 10 11 12 13 14]  fragt Gruppe\n",
      "[ 6  7 10 12  4  9  1 14 11 13  8  2  5  3]\n"
     ]
    }
   ],
   "source": [
    "fragen = bestimme_frage_gruppe(14)"
   ]
  },
  {
   "cell_type": "code",
   "execution_count": null,
   "id": "9807e5d5",
   "metadata": {},
   "outputs": [],
   "source": []
  }
 ],
 "metadata": {
  "kernelspec": {
   "display_name": "Python 3",
   "language": "python",
   "name": "python3"
  },
  "language_info": {
   "codemirror_mode": {
    "name": "ipython",
    "version": 3
   },
   "file_extension": ".py",
   "mimetype": "text/x-python",
   "name": "python",
   "nbconvert_exporter": "python",
   "pygments_lexer": "ipython3",
   "version": "3.7.9"
  }
 },
 "nbformat": 4,
 "nbformat_minor": 5
}
